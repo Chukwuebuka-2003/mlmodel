{
 "cells": [
  {
   "cell_type": "markdown",
   "id": "ac65077c-fa71-4df8-9863-dc2180dd8624",
   "metadata": {},
   "source": [
    "# Testing ML Classification Models in a Data Set"
   ]
  },
  {
   "cell_type": "markdown",
   "id": "24b9973a-8cd2-4e0b-b915-e88f1398682a",
   "metadata": {},
   "source": [
    "- This data set contains information about diabetes. \n",
    "- It contains 520 rows and 17 columns. \n",
    "- The dataset is clean and has no missing values"
   ]
  },
  {
   "cell_type": "code",
   "execution_count": 85,
   "id": "e47a07c7-1584-4ec8-999e-d36c506e0d95",
   "metadata": {
    "tags": []
   },
   "outputs": [],
   "source": [
    "# import frameworks\n",
    "from sklearn.model_selection import train_test_split\n",
    "import pandas as pd\n",
    "import numpy as np\n",
    "import matplotlib.pyplot as plt\n",
    "import pandas as pd\n",
    "from sklearn.feature_selection import mutual_info_classif\n",
    "from sklearn.preprocessing import LabelEncoder, OneHotEncoder\n",
    "from sklearn.ensemble import RandomForestClassifier\n",
    "import seaborn as sns\n",
    "from sklearn.metrics import confusion_matrix, classification_report, accuracy_score\n",
    "import warnings\n",
    "warnings.filterwarnings(\"ignore\")"
   ]
  },
  {
   "cell_type": "code",
   "execution_count": 86,
   "id": "86ddc5ce-1b50-4fd1-8ceb-5ee7a81a5653",
   "metadata": {
    "tags": []
   },
   "outputs": [],
   "source": [
    "# load the dataset\n",
    "df = pd.read_csv('diabetes_risk_prediction_dataset.csv')"
   ]
  },
  {
   "cell_type": "code",
   "execution_count": 87,
   "id": "fa526dfb-3fb7-4c08-942f-45f2d7bb66e6",
   "metadata": {
    "tags": []
   },
   "outputs": [
    {
     "data": {
      "text/plain": [
       "(520, 17)"
      ]
     },
     "execution_count": 87,
     "metadata": {},
     "output_type": "execute_result"
    }
   ],
   "source": [
    "df.shape"
   ]
  },
  {
   "cell_type": "code",
   "execution_count": 88,
   "id": "307fe28b-5b21-4859-bc8e-cfec2905d94d",
   "metadata": {},
   "outputs": [
    {
     "data": {
      "text/html": [
       "<div>\n",
       "<style scoped>\n",
       "    .dataframe tbody tr th:only-of-type {\n",
       "        vertical-align: middle;\n",
       "    }\n",
       "\n",
       "    .dataframe tbody tr th {\n",
       "        vertical-align: top;\n",
       "    }\n",
       "\n",
       "    .dataframe thead th {\n",
       "        text-align: right;\n",
       "    }\n",
       "</style>\n",
       "<table border=\"1\" class=\"dataframe\">\n",
       "  <thead>\n",
       "    <tr style=\"text-align: right;\">\n",
       "      <th></th>\n",
       "      <th>Age</th>\n",
       "      <th>Gender</th>\n",
       "      <th>Polyuria</th>\n",
       "      <th>Polydipsia</th>\n",
       "      <th>sudden weight loss</th>\n",
       "      <th>weakness</th>\n",
       "      <th>Polyphagia</th>\n",
       "      <th>Genital thrush</th>\n",
       "      <th>visual blurring</th>\n",
       "      <th>Itching</th>\n",
       "      <th>Irritability</th>\n",
       "      <th>delayed healing</th>\n",
       "      <th>partial paresis</th>\n",
       "      <th>muscle stiffness</th>\n",
       "      <th>Alopecia</th>\n",
       "      <th>Obesity</th>\n",
       "      <th>class</th>\n",
       "    </tr>\n",
       "  </thead>\n",
       "  <tbody>\n",
       "    <tr>\n",
       "      <th>0</th>\n",
       "      <td>40</td>\n",
       "      <td>Male</td>\n",
       "      <td>No</td>\n",
       "      <td>Yes</td>\n",
       "      <td>No</td>\n",
       "      <td>Yes</td>\n",
       "      <td>No</td>\n",
       "      <td>No</td>\n",
       "      <td>No</td>\n",
       "      <td>Yes</td>\n",
       "      <td>No</td>\n",
       "      <td>Yes</td>\n",
       "      <td>No</td>\n",
       "      <td>Yes</td>\n",
       "      <td>Yes</td>\n",
       "      <td>Yes</td>\n",
       "      <td>Positive</td>\n",
       "    </tr>\n",
       "    <tr>\n",
       "      <th>1</th>\n",
       "      <td>58</td>\n",
       "      <td>Male</td>\n",
       "      <td>No</td>\n",
       "      <td>No</td>\n",
       "      <td>No</td>\n",
       "      <td>Yes</td>\n",
       "      <td>No</td>\n",
       "      <td>No</td>\n",
       "      <td>Yes</td>\n",
       "      <td>No</td>\n",
       "      <td>No</td>\n",
       "      <td>No</td>\n",
       "      <td>Yes</td>\n",
       "      <td>No</td>\n",
       "      <td>Yes</td>\n",
       "      <td>No</td>\n",
       "      <td>Positive</td>\n",
       "    </tr>\n",
       "    <tr>\n",
       "      <th>2</th>\n",
       "      <td>41</td>\n",
       "      <td>Male</td>\n",
       "      <td>Yes</td>\n",
       "      <td>No</td>\n",
       "      <td>No</td>\n",
       "      <td>Yes</td>\n",
       "      <td>Yes</td>\n",
       "      <td>No</td>\n",
       "      <td>No</td>\n",
       "      <td>Yes</td>\n",
       "      <td>No</td>\n",
       "      <td>Yes</td>\n",
       "      <td>No</td>\n",
       "      <td>Yes</td>\n",
       "      <td>Yes</td>\n",
       "      <td>No</td>\n",
       "      <td>Positive</td>\n",
       "    </tr>\n",
       "    <tr>\n",
       "      <th>3</th>\n",
       "      <td>45</td>\n",
       "      <td>Male</td>\n",
       "      <td>No</td>\n",
       "      <td>No</td>\n",
       "      <td>Yes</td>\n",
       "      <td>Yes</td>\n",
       "      <td>Yes</td>\n",
       "      <td>Yes</td>\n",
       "      <td>No</td>\n",
       "      <td>Yes</td>\n",
       "      <td>No</td>\n",
       "      <td>Yes</td>\n",
       "      <td>No</td>\n",
       "      <td>No</td>\n",
       "      <td>No</td>\n",
       "      <td>No</td>\n",
       "      <td>Positive</td>\n",
       "    </tr>\n",
       "    <tr>\n",
       "      <th>4</th>\n",
       "      <td>60</td>\n",
       "      <td>Male</td>\n",
       "      <td>Yes</td>\n",
       "      <td>Yes</td>\n",
       "      <td>Yes</td>\n",
       "      <td>Yes</td>\n",
       "      <td>Yes</td>\n",
       "      <td>No</td>\n",
       "      <td>Yes</td>\n",
       "      <td>Yes</td>\n",
       "      <td>Yes</td>\n",
       "      <td>Yes</td>\n",
       "      <td>Yes</td>\n",
       "      <td>Yes</td>\n",
       "      <td>Yes</td>\n",
       "      <td>Yes</td>\n",
       "      <td>Positive</td>\n",
       "    </tr>\n",
       "  </tbody>\n",
       "</table>\n",
       "</div>"
      ],
      "text/plain": [
       "   Age Gender Polyuria Polydipsia sudden weight loss weakness Polyphagia  \\\n",
       "0   40   Male       No        Yes                 No      Yes         No   \n",
       "1   58   Male       No         No                 No      Yes         No   \n",
       "2   41   Male      Yes         No                 No      Yes        Yes   \n",
       "3   45   Male       No         No                Yes      Yes        Yes   \n",
       "4   60   Male      Yes        Yes                Yes      Yes        Yes   \n",
       "\n",
       "  Genital thrush visual blurring Itching Irritability delayed healing  \\\n",
       "0             No              No     Yes           No             Yes   \n",
       "1             No             Yes      No           No              No   \n",
       "2             No              No     Yes           No             Yes   \n",
       "3            Yes              No     Yes           No             Yes   \n",
       "4             No             Yes     Yes          Yes             Yes   \n",
       "\n",
       "  partial paresis muscle stiffness Alopecia Obesity     class  \n",
       "0              No              Yes      Yes     Yes  Positive  \n",
       "1             Yes               No      Yes      No  Positive  \n",
       "2              No              Yes      Yes      No  Positive  \n",
       "3              No               No       No      No  Positive  \n",
       "4             Yes              Yes      Yes     Yes  Positive  "
      ]
     },
     "execution_count": 88,
     "metadata": {},
     "output_type": "execute_result"
    }
   ],
   "source": [
    "df.head()"
   ]
  },
  {
   "cell_type": "code",
   "execution_count": 27,
   "id": "7052ca06-c998-4a95-b2d5-87fd34f39f90",
   "metadata": {
    "tags": []
   },
   "outputs": [
    {
     "data": {
      "text/plain": [
       "Age                   0\n",
       "Gender                0\n",
       "Polyuria              0\n",
       "Polydipsia            0\n",
       "sudden weight loss    0\n",
       "weakness              0\n",
       "Polyphagia            0\n",
       "Genital thrush        0\n",
       "visual blurring       0\n",
       "Itching               0\n",
       "Irritability          0\n",
       "delayed healing       0\n",
       "partial paresis       0\n",
       "muscle stiffness      0\n",
       "Alopecia              0\n",
       "Obesity               0\n",
       "class                 0\n",
       "dtype: int64"
      ]
     },
     "execution_count": 27,
     "metadata": {},
     "output_type": "execute_result"
    }
   ],
   "source": [
    "df.isna().sum()"
   ]
  },
  {
   "cell_type": "code",
   "execution_count": 28,
   "id": "5ccff046-5b2f-4497-9d7c-b809496be442",
   "metadata": {
    "tags": []
   },
   "outputs": [
    {
     "data": {
      "text/plain": [
       "Index(['Age', 'Gender', 'Polyuria', 'Polydipsia', 'sudden weight loss',\n",
       "       'weakness', 'Polyphagia', 'Genital thrush', 'visual blurring',\n",
       "       'Itching', 'Irritability', 'delayed healing', 'partial paresis',\n",
       "       'muscle stiffness', 'Alopecia', 'Obesity', 'class'],\n",
       "      dtype='object')"
      ]
     },
     "execution_count": 28,
     "metadata": {},
     "output_type": "execute_result"
    }
   ],
   "source": [
    "df.columns"
   ]
  },
  {
   "cell_type": "code",
   "execution_count": 29,
   "id": "30280244-4a25-4dcd-829a-c3da5b077a9d",
   "metadata": {},
   "outputs": [
    {
     "data": {
      "text/plain": [
       "array(['Positive', 'Negative'], dtype=object)"
      ]
     },
     "execution_count": 29,
     "metadata": {},
     "output_type": "execute_result"
    }
   ],
   "source": [
    "df[\"class\"].unique()"
   ]
  },
  {
   "cell_type": "code",
   "execution_count": 53,
   "id": "c071fc01-34f5-4dac-ade0-27d25230994a",
   "metadata": {},
   "outputs": [
    {
     "name": "stdout",
     "output_type": "stream",
     "text": [
      "Length of x: 320\n"
     ]
    }
   ],
   "source": [
    "x = df[df[\"class\"] == \"Positive\"]\n",
    "length_of_x = len(x)\n",
    "print(\"Length of x:\", length_of_x)\n"
   ]
  },
  {
   "cell_type": "code",
   "execution_count": 55,
   "id": "d96377b7-36b1-412a-8874-28aea1d07f04",
   "metadata": {},
   "outputs": [
    {
     "name": "stdout",
     "output_type": "stream",
     "text": [
      "Length of y: 520\n"
     ]
    }
   ],
   "source": [
    "x = df[df[\"class\"] == \"Negative\"]\n",
    "length_of_y = len(y)\n",
    "print(\"Length of y:\", length_of_y)\n"
   ]
  },
  {
   "cell_type": "markdown",
   "id": "a8c6ea03-ce55-4b5b-83c9-14dbd0da3483",
   "metadata": {},
   "source": [
    "# TESTING A RANDOMFORESTCLASSIFIER MODEL ON THE DATASET"
   ]
  },
  {
   "cell_type": "code",
   "execution_count": 56,
   "id": "6e603dd2-e7c0-48c8-b9ec-8eebe1d2a4c3",
   "metadata": {
    "tags": []
   },
   "outputs": [],
   "source": [
    "X = df[['Polyuria', 'Polydipsia', 'sudden weight loss', 'weakness', 'Polyphagia',\n",
    "                   'Genital thrush', 'visual blurring', 'Itching', 'Irritability',\n",
    "                   'delayed healing', 'partial paresis', 'muscle stiffness', 'Alopecia', 'Obesity','Age', 'Gender']]\n",
    "\n",
    "y = df['class']"
   ]
  },
  {
   "cell_type": "code",
   "execution_count": 57,
   "id": "a1f451f8-da6c-471f-b918-36f72aedc858",
   "metadata": {
    "tags": []
   },
   "outputs": [
    {
     "data": {
      "text/html": [
       "<div>\n",
       "<style scoped>\n",
       "    .dataframe tbody tr th:only-of-type {\n",
       "        vertical-align: middle;\n",
       "    }\n",
       "\n",
       "    .dataframe tbody tr th {\n",
       "        vertical-align: top;\n",
       "    }\n",
       "\n",
       "    .dataframe thead th {\n",
       "        text-align: right;\n",
       "    }\n",
       "</style>\n",
       "<table border=\"1\" class=\"dataframe\">\n",
       "  <thead>\n",
       "    <tr style=\"text-align: right;\">\n",
       "      <th></th>\n",
       "      <th>Age</th>\n",
       "      <th>Polyuria_No</th>\n",
       "      <th>Polyuria_Yes</th>\n",
       "      <th>Polydipsia_No</th>\n",
       "      <th>Polydipsia_Yes</th>\n",
       "      <th>sudden weight loss_No</th>\n",
       "      <th>sudden weight loss_Yes</th>\n",
       "      <th>weakness_No</th>\n",
       "      <th>weakness_Yes</th>\n",
       "      <th>Polyphagia_No</th>\n",
       "      <th>...</th>\n",
       "      <th>partial paresis_No</th>\n",
       "      <th>partial paresis_Yes</th>\n",
       "      <th>muscle stiffness_No</th>\n",
       "      <th>muscle stiffness_Yes</th>\n",
       "      <th>Alopecia_No</th>\n",
       "      <th>Alopecia_Yes</th>\n",
       "      <th>Obesity_No</th>\n",
       "      <th>Obesity_Yes</th>\n",
       "      <th>Gender_Female</th>\n",
       "      <th>Gender_Male</th>\n",
       "    </tr>\n",
       "  </thead>\n",
       "  <tbody>\n",
       "    <tr>\n",
       "      <th>0</th>\n",
       "      <td>40</td>\n",
       "      <td>True</td>\n",
       "      <td>False</td>\n",
       "      <td>False</td>\n",
       "      <td>True</td>\n",
       "      <td>True</td>\n",
       "      <td>False</td>\n",
       "      <td>False</td>\n",
       "      <td>True</td>\n",
       "      <td>True</td>\n",
       "      <td>...</td>\n",
       "      <td>True</td>\n",
       "      <td>False</td>\n",
       "      <td>False</td>\n",
       "      <td>True</td>\n",
       "      <td>False</td>\n",
       "      <td>True</td>\n",
       "      <td>False</td>\n",
       "      <td>True</td>\n",
       "      <td>False</td>\n",
       "      <td>True</td>\n",
       "    </tr>\n",
       "    <tr>\n",
       "      <th>1</th>\n",
       "      <td>58</td>\n",
       "      <td>True</td>\n",
       "      <td>False</td>\n",
       "      <td>True</td>\n",
       "      <td>False</td>\n",
       "      <td>True</td>\n",
       "      <td>False</td>\n",
       "      <td>False</td>\n",
       "      <td>True</td>\n",
       "      <td>True</td>\n",
       "      <td>...</td>\n",
       "      <td>False</td>\n",
       "      <td>True</td>\n",
       "      <td>True</td>\n",
       "      <td>False</td>\n",
       "      <td>False</td>\n",
       "      <td>True</td>\n",
       "      <td>True</td>\n",
       "      <td>False</td>\n",
       "      <td>False</td>\n",
       "      <td>True</td>\n",
       "    </tr>\n",
       "    <tr>\n",
       "      <th>2</th>\n",
       "      <td>41</td>\n",
       "      <td>False</td>\n",
       "      <td>True</td>\n",
       "      <td>True</td>\n",
       "      <td>False</td>\n",
       "      <td>True</td>\n",
       "      <td>False</td>\n",
       "      <td>False</td>\n",
       "      <td>True</td>\n",
       "      <td>False</td>\n",
       "      <td>...</td>\n",
       "      <td>True</td>\n",
       "      <td>False</td>\n",
       "      <td>False</td>\n",
       "      <td>True</td>\n",
       "      <td>False</td>\n",
       "      <td>True</td>\n",
       "      <td>True</td>\n",
       "      <td>False</td>\n",
       "      <td>False</td>\n",
       "      <td>True</td>\n",
       "    </tr>\n",
       "    <tr>\n",
       "      <th>3</th>\n",
       "      <td>45</td>\n",
       "      <td>True</td>\n",
       "      <td>False</td>\n",
       "      <td>True</td>\n",
       "      <td>False</td>\n",
       "      <td>False</td>\n",
       "      <td>True</td>\n",
       "      <td>False</td>\n",
       "      <td>True</td>\n",
       "      <td>False</td>\n",
       "      <td>...</td>\n",
       "      <td>True</td>\n",
       "      <td>False</td>\n",
       "      <td>True</td>\n",
       "      <td>False</td>\n",
       "      <td>True</td>\n",
       "      <td>False</td>\n",
       "      <td>True</td>\n",
       "      <td>False</td>\n",
       "      <td>False</td>\n",
       "      <td>True</td>\n",
       "    </tr>\n",
       "    <tr>\n",
       "      <th>4</th>\n",
       "      <td>60</td>\n",
       "      <td>False</td>\n",
       "      <td>True</td>\n",
       "      <td>False</td>\n",
       "      <td>True</td>\n",
       "      <td>False</td>\n",
       "      <td>True</td>\n",
       "      <td>False</td>\n",
       "      <td>True</td>\n",
       "      <td>False</td>\n",
       "      <td>...</td>\n",
       "      <td>False</td>\n",
       "      <td>True</td>\n",
       "      <td>False</td>\n",
       "      <td>True</td>\n",
       "      <td>False</td>\n",
       "      <td>True</td>\n",
       "      <td>False</td>\n",
       "      <td>True</td>\n",
       "      <td>False</td>\n",
       "      <td>True</td>\n",
       "    </tr>\n",
       "    <tr>\n",
       "      <th>...</th>\n",
       "      <td>...</td>\n",
       "      <td>...</td>\n",
       "      <td>...</td>\n",
       "      <td>...</td>\n",
       "      <td>...</td>\n",
       "      <td>...</td>\n",
       "      <td>...</td>\n",
       "      <td>...</td>\n",
       "      <td>...</td>\n",
       "      <td>...</td>\n",
       "      <td>...</td>\n",
       "      <td>...</td>\n",
       "      <td>...</td>\n",
       "      <td>...</td>\n",
       "      <td>...</td>\n",
       "      <td>...</td>\n",
       "      <td>...</td>\n",
       "      <td>...</td>\n",
       "      <td>...</td>\n",
       "      <td>...</td>\n",
       "      <td>...</td>\n",
       "    </tr>\n",
       "    <tr>\n",
       "      <th>515</th>\n",
       "      <td>39</td>\n",
       "      <td>False</td>\n",
       "      <td>True</td>\n",
       "      <td>False</td>\n",
       "      <td>True</td>\n",
       "      <td>False</td>\n",
       "      <td>True</td>\n",
       "      <td>True</td>\n",
       "      <td>False</td>\n",
       "      <td>False</td>\n",
       "      <td>...</td>\n",
       "      <td>False</td>\n",
       "      <td>True</td>\n",
       "      <td>True</td>\n",
       "      <td>False</td>\n",
       "      <td>True</td>\n",
       "      <td>False</td>\n",
       "      <td>True</td>\n",
       "      <td>False</td>\n",
       "      <td>True</td>\n",
       "      <td>False</td>\n",
       "    </tr>\n",
       "    <tr>\n",
       "      <th>516</th>\n",
       "      <td>48</td>\n",
       "      <td>False</td>\n",
       "      <td>True</td>\n",
       "      <td>False</td>\n",
       "      <td>True</td>\n",
       "      <td>False</td>\n",
       "      <td>True</td>\n",
       "      <td>False</td>\n",
       "      <td>True</td>\n",
       "      <td>False</td>\n",
       "      <td>...</td>\n",
       "      <td>False</td>\n",
       "      <td>True</td>\n",
       "      <td>True</td>\n",
       "      <td>False</td>\n",
       "      <td>True</td>\n",
       "      <td>False</td>\n",
       "      <td>True</td>\n",
       "      <td>False</td>\n",
       "      <td>True</td>\n",
       "      <td>False</td>\n",
       "    </tr>\n",
       "    <tr>\n",
       "      <th>517</th>\n",
       "      <td>58</td>\n",
       "      <td>False</td>\n",
       "      <td>True</td>\n",
       "      <td>False</td>\n",
       "      <td>True</td>\n",
       "      <td>False</td>\n",
       "      <td>True</td>\n",
       "      <td>False</td>\n",
       "      <td>True</td>\n",
       "      <td>False</td>\n",
       "      <td>...</td>\n",
       "      <td>False</td>\n",
       "      <td>True</td>\n",
       "      <td>False</td>\n",
       "      <td>True</td>\n",
       "      <td>True</td>\n",
       "      <td>False</td>\n",
       "      <td>False</td>\n",
       "      <td>True</td>\n",
       "      <td>True</td>\n",
       "      <td>False</td>\n",
       "    </tr>\n",
       "    <tr>\n",
       "      <th>518</th>\n",
       "      <td>32</td>\n",
       "      <td>True</td>\n",
       "      <td>False</td>\n",
       "      <td>True</td>\n",
       "      <td>False</td>\n",
       "      <td>True</td>\n",
       "      <td>False</td>\n",
       "      <td>False</td>\n",
       "      <td>True</td>\n",
       "      <td>True</td>\n",
       "      <td>...</td>\n",
       "      <td>True</td>\n",
       "      <td>False</td>\n",
       "      <td>True</td>\n",
       "      <td>False</td>\n",
       "      <td>False</td>\n",
       "      <td>True</td>\n",
       "      <td>True</td>\n",
       "      <td>False</td>\n",
       "      <td>True</td>\n",
       "      <td>False</td>\n",
       "    </tr>\n",
       "    <tr>\n",
       "      <th>519</th>\n",
       "      <td>42</td>\n",
       "      <td>True</td>\n",
       "      <td>False</td>\n",
       "      <td>True</td>\n",
       "      <td>False</td>\n",
       "      <td>True</td>\n",
       "      <td>False</td>\n",
       "      <td>True</td>\n",
       "      <td>False</td>\n",
       "      <td>True</td>\n",
       "      <td>...</td>\n",
       "      <td>True</td>\n",
       "      <td>False</td>\n",
       "      <td>True</td>\n",
       "      <td>False</td>\n",
       "      <td>True</td>\n",
       "      <td>False</td>\n",
       "      <td>True</td>\n",
       "      <td>False</td>\n",
       "      <td>False</td>\n",
       "      <td>True</td>\n",
       "    </tr>\n",
       "  </tbody>\n",
       "</table>\n",
       "<p>520 rows × 31 columns</p>\n",
       "</div>"
      ],
      "text/plain": [
       "     Age  Polyuria_No  Polyuria_Yes  Polydipsia_No  Polydipsia_Yes  \\\n",
       "0     40         True         False          False            True   \n",
       "1     58         True         False           True           False   \n",
       "2     41        False          True           True           False   \n",
       "3     45         True         False           True           False   \n",
       "4     60        False          True          False            True   \n",
       "..   ...          ...           ...            ...             ...   \n",
       "515   39        False          True          False            True   \n",
       "516   48        False          True          False            True   \n",
       "517   58        False          True          False            True   \n",
       "518   32         True         False           True           False   \n",
       "519   42         True         False           True           False   \n",
       "\n",
       "     sudden weight loss_No  sudden weight loss_Yes  weakness_No  weakness_Yes  \\\n",
       "0                     True                   False        False          True   \n",
       "1                     True                   False        False          True   \n",
       "2                     True                   False        False          True   \n",
       "3                    False                    True        False          True   \n",
       "4                    False                    True        False          True   \n",
       "..                     ...                     ...          ...           ...   \n",
       "515                  False                    True         True         False   \n",
       "516                  False                    True        False          True   \n",
       "517                  False                    True        False          True   \n",
       "518                   True                   False        False          True   \n",
       "519                   True                   False         True         False   \n",
       "\n",
       "     Polyphagia_No  ...  partial paresis_No  partial paresis_Yes  \\\n",
       "0             True  ...                True                False   \n",
       "1             True  ...               False                 True   \n",
       "2            False  ...                True                False   \n",
       "3            False  ...                True                False   \n",
       "4            False  ...               False                 True   \n",
       "..             ...  ...                 ...                  ...   \n",
       "515          False  ...               False                 True   \n",
       "516          False  ...               False                 True   \n",
       "517          False  ...               False                 True   \n",
       "518           True  ...                True                False   \n",
       "519           True  ...                True                False   \n",
       "\n",
       "     muscle stiffness_No  muscle stiffness_Yes  Alopecia_No  Alopecia_Yes  \\\n",
       "0                  False                  True        False          True   \n",
       "1                   True                 False        False          True   \n",
       "2                  False                  True        False          True   \n",
       "3                   True                 False         True         False   \n",
       "4                  False                  True        False          True   \n",
       "..                   ...                   ...          ...           ...   \n",
       "515                 True                 False         True         False   \n",
       "516                 True                 False         True         False   \n",
       "517                False                  True         True         False   \n",
       "518                 True                 False        False          True   \n",
       "519                 True                 False         True         False   \n",
       "\n",
       "     Obesity_No  Obesity_Yes  Gender_Female  Gender_Male  \n",
       "0         False         True          False         True  \n",
       "1          True        False          False         True  \n",
       "2          True        False          False         True  \n",
       "3          True        False          False         True  \n",
       "4         False         True          False         True  \n",
       "..          ...          ...            ...          ...  \n",
       "515        True        False           True        False  \n",
       "516        True        False           True        False  \n",
       "517       False         True           True        False  \n",
       "518        True        False           True        False  \n",
       "519        True        False          False         True  \n",
       "\n",
       "[520 rows x 31 columns]"
      ]
     },
     "execution_count": 57,
     "metadata": {},
     "output_type": "execute_result"
    }
   ],
   "source": [
    "#encoding the categorical variables\n",
    "\n",
    "X_encoded = pd.get_dummies(X)\n",
    "X_encoded"
   ]
  },
  {
   "cell_type": "markdown",
   "id": "97a5b8ef-0095-4891-9b75-0a53af05552d",
   "metadata": {},
   "source": [
    "I will test the model without using feature importance ( i will use all the available features in the data set)"
   ]
  },
  {
   "cell_type": "code",
   "execution_count": 58,
   "id": "4b79dce0-20a7-4a49-b665-e678d9bb8a6c",
   "metadata": {
    "tags": []
   },
   "outputs": [
    {
     "name": "stdout",
     "output_type": "stream",
     "text": [
      "Confusion Matrix:\n",
      "[[33  0]\n",
      " [ 2 69]]\n",
      "\n",
      "Classification Report:\n",
      "              precision    recall  f1-score   support\n",
      "\n",
      "    Negative       0.94      1.00      0.97        33\n",
      "    Positive       1.00      0.97      0.99        71\n",
      "\n",
      "    accuracy                           0.98       104\n",
      "   macro avg       0.97      0.99      0.98       104\n",
      "weighted avg       0.98      0.98      0.98       104\n",
      "\n"
     ]
    },
    {
     "data": {
      "image/png": "[encoded data removed]",
      "text/plain": [
       "<Figure size 800x600 with 2 Axes>"
      ]
     },
     "metadata": {},
     "output_type": "display_data"
    }
   ],
   "source": [
    "# Split the data into training and testing sets\n",
    "X_train, X_test, y_train, y_test = train_test_split(X_encoded, y, test_size=0.2, random_state=42)\n",
    "\n",
    "\n",
    "# Train the Random Forest model\n",
    "rf_model = RandomForestClassifier()\n",
    "rf_model.fit(X_train, y_train)\n",
    "\n",
    "\n",
    "y_pred = rf_model.predict(X_test)\n",
    "                          \n",
    "\n",
    "# Evaluate the model with a confusion matrix and classification report\n",
    "\n",
    "rf_conf_matrix = confusion_matrix(y_test, y_pred)\n",
    "classification_rep = classification_report(y_test, y_pred)\n",
    "\n",
    "\n",
    "print(\"Confusion Matrix:\")\n",
    "print(rf_conf_matrix)\n",
    "print(\"\\nClassification Report:\")\n",
    "print(classification_rep)\n",
    "\n",
    "# Plot the confusion matrix\n",
    "plt.figure(figsize=(8, 6))\n",
    "sns.heatmap(rf_conf_matrix, annot=True, fmt=\"d\", cmap=\"Blues\", xticklabels=['Negative', 'Positive'], yticklabels=['Negative', 'Positive'])\n",
    "plt.xlabel('Predicted')\n",
    "plt.ylabel('Actual')\n",
    "plt.title('Confusion Matrix')\n",
    "plt.savefig('model1.png')\n",
    "plt.show()"
   ]
  },
  {
   "cell_type": "markdown",
   "id": "6eb8d8ee-6410-40fd-86f3-4dbee4112ea4",
   "metadata": {},
   "source": [
    "# Extracting the important features:\n",
    "\n",
    "I will use these two:\n",
    "- rf feature_importances_ \n",
    "- from sklearn.feature_selection import SelectFromModel"
   ]
  },
  {
   "cell_type": "markdown",
   "id": "a7ae2176-3ae1-4cff-88f3-3b4e9a046491",
   "metadata": {},
   "source": [
    "Using feature_importances_: \n",
    "\n",
    "i will select a threshold of > 0.05 and use the selected features to train the model on the data again and compare the metrics"
   ]
  },
  {
   "cell_type": "code",
   "execution_count": 59,
   "id": "4607bce2-e770-41bd-8a66-d50f9eff75ed",
   "metadata": {
    "tags": []
   },
   "outputs": [
    {
     "data": {
      "image/png": "[encoded data removed]",
      "text/plain": [
       "<Figure size 640x480 with 1 Axes>"
      ]
     },
     "metadata": {},
     "output_type": "display_data"
    }
   ],
   "source": [
    "# Access Feature Importance\n",
    "feature_importance = rf_model.feature_importances_\n",
    "\n",
    "# Map Feature Importance to Features\n",
    "feature_names = list(X_encoded.columns)\n",
    "feature_importance_map = dict(zip(feature_names, feature_importance))\n",
    "\n",
    "# Sort and Visualize\n",
    "sorted_features = sorted(feature_importance_map.items(), key=lambda x: x[1], reverse=True)\n",
    "top_features = [feature[0] for feature in sorted_features]\n",
    "top_importance = [feature[1] for feature in sorted_features]\n",
    "\n",
    "plt.barh(top_features, top_importance)\n",
    "plt.xlabel('Feature Importance')\n",
    "plt.title('Top Features in Random Forest Model')\n",
    "plt.savefig('rf_features.png')\n",
    "plt.show()"
   ]
  },
  {
   "cell_type": "code",
   "execution_count": 60,
   "id": "d6c4220b-9654-4d64-93da-215e90361060",
   "metadata": {
    "tags": []
   },
   "outputs": [
    {
     "data": {
      "text/html": [
       "<div>\n",
       "<style scoped>\n",
       "    .dataframe tbody tr th:only-of-type {\n",
       "        vertical-align: middle;\n",
       "    }\n",
       "\n",
       "    .dataframe tbody tr th {\n",
       "        vertical-align: top;\n",
       "    }\n",
       "\n",
       "    .dataframe thead th {\n",
       "        text-align: right;\n",
       "    }\n",
       "</style>\n",
       "<table border=\"1\" class=\"dataframe\">\n",
       "  <thead>\n",
       "    <tr style=\"text-align: right;\">\n",
       "      <th></th>\n",
       "      <th>Feature</th>\n",
       "      <th>Importance</th>\n",
       "    </tr>\n",
       "  </thead>\n",
       "  <tbody>\n",
       "    <tr>\n",
       "      <th>0</th>\n",
       "      <td>Polyuria_Yes</td>\n",
       "      <td>0.136326</td>\n",
       "    </tr>\n",
       "    <tr>\n",
       "      <th>1</th>\n",
       "      <td>Polyuria_No</td>\n",
       "      <td>0.128090</td>\n",
       "    </tr>\n",
       "    <tr>\n",
       "      <th>2</th>\n",
       "      <td>Polydipsia_No</td>\n",
       "      <td>0.099191</td>\n",
       "    </tr>\n",
       "    <tr>\n",
       "      <th>3</th>\n",
       "      <td>Polydipsia_Yes</td>\n",
       "      <td>0.072938</td>\n",
       "    </tr>\n",
       "    <tr>\n",
       "      <th>4</th>\n",
       "      <td>Age</td>\n",
       "      <td>0.064656</td>\n",
       "    </tr>\n",
       "    <tr>\n",
       "      <th>5</th>\n",
       "      <td>Gender_Female</td>\n",
       "      <td>0.054133</td>\n",
       "    </tr>\n",
       "    <tr>\n",
       "      <th>6</th>\n",
       "      <td>Gender_Male</td>\n",
       "      <td>0.048958</td>\n",
       "    </tr>\n",
       "    <tr>\n",
       "      <th>7</th>\n",
       "      <td>sudden weight loss_Yes</td>\n",
       "      <td>0.040464</td>\n",
       "    </tr>\n",
       "    <tr>\n",
       "      <th>8</th>\n",
       "      <td>sudden weight loss_No</td>\n",
       "      <td>0.030867</td>\n",
       "    </tr>\n",
       "    <tr>\n",
       "      <th>9</th>\n",
       "      <td>Irritability_Yes</td>\n",
       "      <td>0.027096</td>\n",
       "    </tr>\n",
       "    <tr>\n",
       "      <th>10</th>\n",
       "      <td>Irritability_No</td>\n",
       "      <td>0.024652</td>\n",
       "    </tr>\n",
       "    <tr>\n",
       "      <th>11</th>\n",
       "      <td>Alopecia_No</td>\n",
       "      <td>0.023307</td>\n",
       "    </tr>\n",
       "    <tr>\n",
       "      <th>12</th>\n",
       "      <td>partial paresis_Yes</td>\n",
       "      <td>0.022010</td>\n",
       "    </tr>\n",
       "    <tr>\n",
       "      <th>13</th>\n",
       "      <td>delayed healing_No</td>\n",
       "      <td>0.019339</td>\n",
       "    </tr>\n",
       "    <tr>\n",
       "      <th>14</th>\n",
       "      <td>partial paresis_No</td>\n",
       "      <td>0.017401</td>\n",
       "    </tr>\n",
       "    <tr>\n",
       "      <th>15</th>\n",
       "      <td>Alopecia_Yes</td>\n",
       "      <td>0.017286</td>\n",
       "    </tr>\n",
       "    <tr>\n",
       "      <th>16</th>\n",
       "      <td>Itching_Yes</td>\n",
       "      <td>0.015318</td>\n",
       "    </tr>\n",
       "    <tr>\n",
       "      <th>17</th>\n",
       "      <td>Itching_No</td>\n",
       "      <td>0.014850</td>\n",
       "    </tr>\n",
       "    <tr>\n",
       "      <th>18</th>\n",
       "      <td>delayed healing_Yes</td>\n",
       "      <td>0.013573</td>\n",
       "    </tr>\n",
       "    <tr>\n",
       "      <th>19</th>\n",
       "      <td>Genital thrush_No</td>\n",
       "      <td>0.013181</td>\n",
       "    </tr>\n",
       "    <tr>\n",
       "      <th>20</th>\n",
       "      <td>Genital thrush_Yes</td>\n",
       "      <td>0.013170</td>\n",
       "    </tr>\n",
       "    <tr>\n",
       "      <th>21</th>\n",
       "      <td>Polyphagia_No</td>\n",
       "      <td>0.013073</td>\n",
       "    </tr>\n",
       "    <tr>\n",
       "      <th>22</th>\n",
       "      <td>visual blurring_No</td>\n",
       "      <td>0.013042</td>\n",
       "    </tr>\n",
       "    <tr>\n",
       "      <th>23</th>\n",
       "      <td>muscle stiffness_No</td>\n",
       "      <td>0.012309</td>\n",
       "    </tr>\n",
       "    <tr>\n",
       "      <th>24</th>\n",
       "      <td>visual blurring_Yes</td>\n",
       "      <td>0.011026</td>\n",
       "    </tr>\n",
       "    <tr>\n",
       "      <th>25</th>\n",
       "      <td>Polyphagia_Yes</td>\n",
       "      <td>0.010429</td>\n",
       "    </tr>\n",
       "    <tr>\n",
       "      <th>26</th>\n",
       "      <td>muscle stiffness_Yes</td>\n",
       "      <td>0.010301</td>\n",
       "    </tr>\n",
       "    <tr>\n",
       "      <th>27</th>\n",
       "      <td>weakness_Yes</td>\n",
       "      <td>0.009351</td>\n",
       "    </tr>\n",
       "    <tr>\n",
       "      <th>28</th>\n",
       "      <td>weakness_No</td>\n",
       "      <td>0.008178</td>\n",
       "    </tr>\n",
       "    <tr>\n",
       "      <th>29</th>\n",
       "      <td>Obesity_No</td>\n",
       "      <td>0.007770</td>\n",
       "    </tr>\n",
       "    <tr>\n",
       "      <th>30</th>\n",
       "      <td>Obesity_Yes</td>\n",
       "      <td>0.007715</td>\n",
       "    </tr>\n",
       "  </tbody>\n",
       "</table>\n",
       "</div>"
      ],
      "text/plain": [
       "                   Feature  Importance\n",
       "0             Polyuria_Yes    0.136326\n",
       "1              Polyuria_No    0.128090\n",
       "2            Polydipsia_No    0.099191\n",
       "3           Polydipsia_Yes    0.072938\n",
       "4                      Age    0.064656\n",
       "5            Gender_Female    0.054133\n",
       "6              Gender_Male    0.048958\n",
       "7   sudden weight loss_Yes    0.040464\n",
       "8    sudden weight loss_No    0.030867\n",
       "9         Irritability_Yes    0.027096\n",
       "10         Irritability_No    0.024652\n",
       "11             Alopecia_No    0.023307\n",
       "12     partial paresis_Yes    0.022010\n",
       "13      delayed healing_No    0.019339\n",
       "14      partial paresis_No    0.017401\n",
       "15            Alopecia_Yes    0.017286\n",
       "16             Itching_Yes    0.015318\n",
       "17              Itching_No    0.014850\n",
       "18     delayed healing_Yes    0.013573\n",
       "19       Genital thrush_No    0.013181\n",
       "20      Genital thrush_Yes    0.013170\n",
       "21           Polyphagia_No    0.013073\n",
       "22      visual blurring_No    0.013042\n",
       "23     muscle stiffness_No    0.012309\n",
       "24     visual blurring_Yes    0.011026\n",
       "25          Polyphagia_Yes    0.010429\n",
       "26    muscle stiffness_Yes    0.010301\n",
       "27            weakness_Yes    0.009351\n",
       "28             weakness_No    0.008178\n",
       "29              Obesity_No    0.007770\n",
       "30             Obesity_Yes    0.007715"
      ]
     },
     "execution_count": 60,
     "metadata": {},
     "output_type": "execute_result"
    }
   ],
   "source": [
    "rf_features= pd.DataFrame({'Feature': top_features, 'Importance': top_importance})\n",
    "rf_features = rf_features.sort_values(by='Importance', ascending=False)\n",
    "rf_features "
   ]
  },
  {
   "cell_type": "code",
   "execution_count": 61,
   "id": "5c33bf8a-e2c0-4d9f-a54a-9937f9ea7e88",
   "metadata": {
    "tags": []
   },
   "outputs": [
    {
     "name": "stdout",
     "output_type": "stream",
     "text": [
      "Selected Features: ['Polyuria_Yes', 'Polyuria_No', 'Polydipsia_No', 'Polydipsia_Yes', 'Age', 'Gender_Female']\n"
     ]
    }
   ],
   "source": [
    "# select features above a threshold of 0.05\n",
    "selected_features = rf_features[rf_features['Importance'] > 0.05]['Feature'].tolist()\n",
    "print(\"Selected Features:\", selected_features)\n"
   ]
  },
  {
   "cell_type": "code",
   "execution_count": 62,
   "id": "b572555a-c9f5-4195-b3b3-aa74a1a65693",
   "metadata": {
    "tags": []
   },
   "outputs": [
    {
     "name": "stdout",
     "output_type": "stream",
     "text": [
      "Accuracy: 0.9038461538461539\n",
      "\n",
      "Classification Report:\n",
      "              precision    recall  f1-score   support\n",
      "\n",
      "    Negative       0.83      0.88      0.85        33\n",
      "    Positive       0.94      0.92      0.93        71\n",
      "\n",
      "    accuracy                           0.90       104\n",
      "   macro avg       0.89      0.90      0.89       104\n",
      "weighted avg       0.91      0.90      0.90       104\n",
      "\n",
      "\n",
      "Confusion Matrix:\n",
      "[[29  4]\n",
      " [ 6 65]]\n"
     ]
    }
   ],
   "source": [
    "X = X_encoded[['Polyuria_No', 'Polydipsia_No', 'Polydipsia_Yes', 'Polyuria_Yes', 'Age', 'Gender_Female', 'Gender_Male']]\n",
    "y = df['class']\n",
    "\n",
    "\n",
    "X_train, X_test, y_train, y_test = train_test_split(X, y, test_size=0.2, random_state=42)\n",
    "\n",
    "# Train a new Random Forest model using the selected features\n",
    "new_model = RandomForestClassifier()\n",
    "new_model.fit(X_train, y_train)\n",
    "\n",
    "# Predictions on the test set using the new model\n",
    "y_pred = new_model.predict(X_test)\n",
    "\n",
    "# Evaluate the new model\n",
    "accuracy = accuracy_score(y_test, y_pred)\n",
    "classification_rep = classification_report(y_test, y_pred)\n",
    "selected_features_conf_matrix = confusion_matrix(y_test, y_pred)\n",
    "\n",
    "# Print evaluation metrics\n",
    "print(\"Accuracy:\", accuracy)\n",
    "print(\"\\nClassification Report:\")\n",
    "print(classification_rep)\n",
    "print(\"\\nConfusion Matrix:\")\n",
    "print(selected_features_conf_matrix)\n"
   ]
  },
  {
   "cell_type": "code",
   "execution_count": 63,
   "id": "96d87f93-0c51-427f-a916-d5bd0b9cd9a4",
   "metadata": {
    "tags": []
   },
   "outputs": [
    {
     "data": {
      "image/png": "[encoded data removed]",
      "text/plain": [
       "<Figure size 800x600 with 2 Axes>"
      ]
     },
     "metadata": {},
     "output_type": "display_data"
    }
   ],
   "source": [
    "# Plot the confusion matrix\n",
    "plt.figure(figsize=(8, 6))\n",
    "sns.heatmap(selected_features_conf_matrix, annot=True, fmt=\"d\", cmap=\"Blues\", xticklabels=['Negative', 'Positive'], yticklabels=['Negative', 'Positive'])\n",
    "plt.xlabel('Predicted')\n",
    "plt.ylabel('Actual')\n",
    "plt.title('Confusion Matrix with feature_importances_ selected features')\n",
    "plt.savefig(\"featureimp.png\")\n",
    "plt.show()"
   ]
  },
  {
   "cell_type": "markdown",
   "id": "75302af3-9749-470c-be4b-dbba6dc508d9",
   "metadata": {},
   "source": [
    "Testing the model to make predictions using a DSS format (Decision Support System)"
   ]
  },
  {
   "cell_type": "code",
   "execution_count": 67,
   "id": "1641d8ea-ce5e-4fb6-84a5-2d0271333c9d",
   "metadata": {},
   "outputs": [
    {
     "name": "stdout",
     "output_type": "stream",
     "text": [
      "The patient is predicted not to have the condition.\n"
     ]
    }
   ],
   "source": [
    "def predict_condition(new_model, features):\n",
    "    \"\"\"\n",
    "    Predicts the condition based on the input features using the trained model.\n",
    "\n",
    "    Args:\n",
    "    - model: Trained machine learning model (e.g., Random Forest classifier)\n",
    "    - features: Input features for prediction\n",
    "    \n",
    "    Returns:\n",
    "    - prediction: Predicted condition (e.g., 'Positive' or 'Negative')\n",
    "    \"\"\"\n",
    "    prediction = new_model.predict(features)\n",
    "    return prediction\n",
    "\n",
    "# Example usage:\n",
    "new_patient_features = [[0, 1, 0, 1, 75, 0, 1]]\n",
    "prediction = predict_condition(new_model, new_patient_features)\n",
    "if prediction[0] == 1:\n",
    "    print(\"The patient is predicted to have the condition.\")\n",
    "else:\n",
    "    print(\"The patient is predicted not to have the condition.\")\n"
   ]
  },
  {
   "cell_type": "markdown",
   "id": "c45a5761-efa2-4a4b-a56f-42823b464d65",
   "metadata": {},
   "source": [
    "# How about using Pearson Correlation Coefficient to determine the important features?"
   ]
  },
  {
   "cell_type": "code",
   "execution_count": 68,
   "id": "23879a3b-c74d-46e2-9177-f9ba5aa12727",
   "metadata": {},
   "outputs": [
    {
     "data": {
      "text/plain": [
       "array(['Positive', 'Negative'], dtype=object)"
      ]
     },
     "execution_count": 68,
     "metadata": {},
     "output_type": "execute_result"
    }
   ],
   "source": [
    "df[\"class\"].unique()"
   ]
  },
  {
   "cell_type": "code",
   "execution_count": 69,
   "id": "f3822b48-ec89-4041-ba4f-6435bbbd75a6",
   "metadata": {},
   "outputs": [],
   "source": [
    "df[\"class\"] = df[\"class\"].apply(lambda x: 1 if x == \"Positive\" else 0)\n",
    "df = pd.get_dummies(data = df, drop_first = True)"
   ]
  },
  {
   "cell_type": "code",
   "execution_count": 70,
   "id": "398ead9c-238d-4ee1-b4d8-ad901aae568e",
   "metadata": {},
   "outputs": [
    {
     "name": "stdout",
     "output_type": "stream",
     "text": [
      "Polyuria_Yes              0.665922\n",
      "Polydipsia_Yes            0.648734\n",
      "Gender_Male               0.449233\n",
      "sudden weight loss_Yes    0.436568\n",
      "partial paresis_Yes       0.432288\n",
      "Name: class, dtype: float64\n"
     ]
    }
   ],
   "source": [
    "correlations  = abs(df.corr())\n",
    "\n",
    "top_5_features =  correlations[\"class\"].sort_values(ascending=False)[1:6].index\n",
    "\n",
    "print(correlations[\"class\"].sort_values(ascending=False)[1:6])"
   ]
  },
  {
   "cell_type": "markdown",
   "id": "0f9e1489-f293-48a8-b687-efa2eb3c0db5",
   "metadata": {},
   "source": [
    "Now i will train the random forest model on these selected features"
   ]
  },
  {
   "cell_type": "code",
   "execution_count": 77,
   "id": "936f0067-32cb-4ec0-8e2d-34dfe401c54e",
   "metadata": {},
   "outputs": [
    {
     "name": "stdout",
     "output_type": "stream",
     "text": [
      "Accuracy: 0.9230769230769231\n",
      "\n",
      "Classification Report:\n",
      "              precision    recall  f1-score   support\n",
      "\n",
      "           0       0.90      0.85      0.88        33\n",
      "           1       0.93      0.96      0.94        71\n",
      "\n",
      "    accuracy                           0.92       104\n",
      "   macro avg       0.92      0.90      0.91       104\n",
      "weighted avg       0.92      0.92      0.92       104\n",
      "\n",
      "\n",
      "Confusion Matrix:\n",
      "[[28  5]\n",
      " [ 3 68]]\n"
     ]
    }
   ],
   "source": [
    "X = X_encoded[['Polyuria_Yes', 'Polydipsia_Yes', 'Gender_Male', 'sudden weight loss_Yes', 'partial paresis_Yes']]\n",
    "y = df['class']\n",
    "\n",
    "\n",
    "X_train, X_test, y_train, y_test = train_test_split(X, y, test_size=0.2, random_state=42)\n",
    "\n",
    "# Train a new Random Forest model using the selected features\n",
    "new_rfmodel = RandomForestClassifier()\n",
    "new_rfmodel.fit(X_train, y_train)\n",
    "\n",
    "# Predictions on the test set using the new model\n",
    "y_pred = new_rfmodel.predict(X_test)\n",
    "\n",
    "# Evaluate the new model\n",
    "accuracy = accuracy_score(y_test, y_pred)\n",
    "classification_rep = classification_report(y_test, y_pred)\n",
    "selected_features_conf_matrix = confusion_matrix(y_test, y_pred)\n",
    "\n",
    "# Print evaluation metrics\n",
    "print(\"Accuracy:\", accuracy)\n",
    "print(\"\\nClassification Report:\")\n",
    "print(classification_rep)\n",
    "print(\"\\nConfusion Matrix:\")\n",
    "print(selected_features_conf_matrix)\n"
   ]
  },
  {
   "cell_type": "code",
   "execution_count": 78,
   "id": "f15f1e28-57e7-4f62-8f21-d33a484fc2b3",
   "metadata": {},
   "outputs": [
    {
     "data": {
      "image/png": "[encoded data removed]",
      "text/plain": [
       "<Figure size 800x600 with 2 Axes>"
      ]
     },
     "metadata": {},
     "output_type": "display_data"
    }
   ],
   "source": [
    "# Plot the confusion matrix\n",
    "plt.figure(figsize=(8, 6))\n",
    "sns.heatmap(selected_features_conf_matrix, annot=True, fmt=\"d\", cmap=\"Blues\", xticklabels=['Negative', 'Positive'], yticklabels=['Negative', 'Positive'])\n",
    "plt.xlabel('Predicted')\n",
    "plt.ylabel('Actual')\n",
    "plt.title('Confusion Matrix with feature_importances_ selected features')\n",
    "plt.savefig(\"featureimp.png\")\n",
    "plt.show()"
   ]
  },
  {
   "cell_type": "markdown",
   "id": "e0b52c20-4a6e-44f3-b58b-28dc68154917",
   "metadata": {},
   "source": [
    "After using the pearson correaltion coefficient suggested top 5 features, the model accuracy improved to 0.92 and the classification matrix led to a different result from the previous classification matrix"
   ]
  },
  {
   "cell_type": "code",
   "execution_count": 82,
   "id": "e192863c-5a75-4494-9c74-380b3c292cb4",
   "metadata": {},
   "outputs": [
    {
     "name": "stdout",
     "output_type": "stream",
     "text": [
      "The patient is predicted to have the condition.\n"
     ]
    }
   ],
   "source": [
    "#testing the model to make prediction\n",
    "\n",
    "def predict_class(model, features):\n",
    "    \"\"\"\n",
    "    Predicts the condition based on the input features using the trained model.\n",
    "\n",
    "    Args:\n",
    "    - model: Trained machine learning model (e.g., Random Forest classifier)\n",
    "    - features: Input features for prediction\n",
    "    \n",
    "    Returns:\n",
    "    - prediction: Predicted condition (e.g., 'Positive' or 'Negative')\n",
    "    \"\"\"\n",
    "    prediction = model.predict(features)\n",
    "    return prediction\n",
    "\n",
    "\n",
    "\n",
    "# Example usage:\n",
    "new_patient_features = [[1, 1, 1, 0, 1]]  # Example patient features\n",
    "prediction = predict_class(new_rfmodel, new_patient_features)\n",
    "if prediction[0] == 1:\n",
    "    print(\"The patient is predicted to have the condition.\")\n",
    "else:\n",
    "    print(\"The patient is predicted not to have the condition.\")\n"
   ]
  },
  {
   "cell_type": "markdown",
   "id": "408d2517-fd69-4658-9daf-8f4092d9f559",
   "metadata": {},
   "source": [
    "# I will use SelectFromModel to select the best features given a threshold of > 0.05 and using the selected features to train the model"
   ]
  },
  {
   "cell_type": "code",
   "execution_count": 89,
   "id": "05bbe7dd-5a52-4c9c-9595-f822b41a1a4a",
   "metadata": {
    "tags": []
   },
   "outputs": [
    {
     "name": "stdout",
     "output_type": "stream",
     "text": [
      "Selected Feature Names:\n",
      "Index(['Age', 'Polyuria_No', 'Polyuria_Yes', 'Polydipsia_No',\n",
      "       'Polydipsia_Yes'],\n",
      "      dtype='object')\n",
      "Accuracy with selected features: 0.8557692307692307\n"
     ]
    }
   ],
   "source": [
    "from sklearn.feature_selection import SelectFromModel\n",
    "from sklearn.metrics import accuracy_score\n",
    "\n",
    "\n",
    "X = df[['Polyuria', 'Polydipsia', 'sudden weight loss', 'weakness', 'Polyphagia',\n",
    "                   'Genital thrush', 'visual blurring', 'Itching', 'Irritability',\n",
    "                   'delayed healing', 'partial paresis', 'muscle stiffness', 'Alopecia', 'Obesity','Age', 'Gender']]\n",
    "\n",
    "y = df['class']\n",
    "\n",
    "# Perform one-hot encoding for categorical variables\n",
    "X_encoded = pd.get_dummies(X)\n",
    "\n",
    "# Split the data into training and testing sets\n",
    "X_train, X_test, y_train, y_test = train_test_split(X_encoded, y, test_size=0.2, random_state=42)\n",
    "\n",
    "# Train the Random Forest model\n",
    "rf_model = RandomForestClassifier(random_state=42)\n",
    "rf_model.fit(X_train, y_train)\n",
    "\n",
    "# Use feature importances for feature selection\n",
    "sfm = SelectFromModel(rf_model, threshold=0.05)  \n",
    "sfm.fit(X_train, y_train)\n",
    "\n",
    "# Get the names of the selected features\n",
    "selected_feature_names = X_train.columns[sfm.get_support()]\n",
    "\n",
    "# Transform the features\n",
    "X_train_selected = sfm.transform(X_train)\n",
    "X_test_selected = sfm.transform(X_test)\n",
    "\n",
    "# Train a new model using the selected features\n",
    "new_model = RandomForestClassifier(random_state=42)\n",
    "new_model.fit(X_train_selected, y_train)\n",
    "\n",
    "# Predictions on the test set using the new model\n",
    "y_pred_selected = new_model.predict(X_test_selected)\n",
    "\n",
    "# Evaluate the new model\n",
    "accuracy_selected = accuracy_score(y_test, y_pred_selected)\n",
    "\n",
    "print(\"Selected Feature Names:\")\n",
    "print(selected_feature_names)\n",
    "\n",
    "# Print accuracy\n",
    "print(\"Accuracy with selected features:\", accuracy_selected)\n"
   ]
  },
  {
   "cell_type": "code",
   "execution_count": 90,
   "id": "189e7956-aa23-495a-8214-9afe5708908a",
   "metadata": {
    "tags": []
   },
   "outputs": [
    {
     "name": "stdout",
     "output_type": "stream",
     "text": [
      "Confusion Matrix:\n",
      "[[29  4]\n",
      " [11 60]]\n",
      "\n",
      "Classification Report:\n",
      "              precision    recall  f1-score   support\n",
      "\n",
      "    Negative       0.72      0.88      0.79        33\n",
      "    Positive       0.94      0.85      0.89        71\n",
      "\n",
      "    accuracy                           0.86       104\n",
      "   macro avg       0.83      0.86      0.84       104\n",
      "weighted avg       0.87      0.86      0.86       104\n",
      "\n"
     ]
    },
    {
     "data": {
      "image/png": "[encoded data removed]",
      "text/plain": [
       "<Figure size 800x600 with 2 Axes>"
      ]
     },
     "metadata": {},
     "output_type": "display_data"
    }
   ],
   "source": [
    "sm_conf_matrix = confusion_matrix(y_test, y_pred_selected)\n",
    "classification_rep = classification_report(y_test, y_pred_selected)\n",
    "\n",
    "# Print the confusion matrix and classification report\n",
    "print(\"Confusion Matrix:\")\n",
    "print(sm_conf_matrix)\n",
    "print(\"\\nClassification Report:\")\n",
    "print(classification_rep)\n",
    "\n",
    "# Plot the confusion matrix\n",
    "plt.figure(figsize=(8, 6))\n",
    "sns.heatmap(sm_conf_matrix, annot=True, fmt=\"d\", cmap=\"Blues\", xticklabels=['Negative', 'Positive'], yticklabels=['Negative', 'Positive'])\n",
    "plt.xlabel('Predicted')\n",
    "plt.ylabel('Actual')\n",
    "plt.title('Confusion Matrix with SelectFromModel')\n",
    "plt.savefig(\"sfmodel.png\")\n",
    "plt.show()"
   ]
  },
  {
   "cell_type": "code",
   "execution_count": 92,
   "id": "574e1102-1371-44e1-b515-f319d1fe9b35",
   "metadata": {},
   "outputs": [
    {
     "name": "stdout",
     "output_type": "stream",
     "text": [
      "The patient is predicted not to have the condition.\n"
     ]
    }
   ],
   "source": [
    "#testing the model to make prediction based on these features:\n",
    "#Index(['Age', 'Polyuria_No', 'Polyuria_Yes', 'Polydipsia_No',\n",
    " #      'Polydipsia_Yes'],\n",
    "  #    dtype='object')\n",
    "\n",
    "def predict_class(model, features):\n",
    "    \"\"\"\n",
    "    Predicts the condition based on the input features using the trained model.\n",
    "\n",
    "    Args:\n",
    "    - model: Trained machine learning model (e.g., Random Forest classifier)\n",
    "    - features: Input features for prediction\n",
    "    \n",
    "    Returns:\n",
    "    - prediction: Predicted condition (e.g., 'Positive' or 'Negative')\n",
    "    \"\"\"\n",
    "    prediction = model.predict(features)\n",
    "    return prediction\n",
    "\n",
    "\n",
    "\n",
    "# Example usage:\n",
    "new_patient_features = [[45, 0, 1, 0, 1]]  # Example patient features\n",
    "prediction = predict_class(new_model, new_patient_features)\n",
    "if prediction[0] == 1:\n",
    "    print(\"The patient is predicted to have the condition.\")\n",
    "else:\n",
    "    print(\"The patient is predicted not to have the condition.\")\n"
   ]
  },
  {
   "cell_type": "markdown",
   "id": "b5dbb13c-814f-4eff-ad91-cb2f09209a36",
   "metadata": {},
   "source": [
    "# Testing LogisticRegression"
   ]
  },
  {
   "cell_type": "code",
   "execution_count": 93,
   "id": "0fb78d62-c7ad-470a-b55f-eeab061b2b79",
   "metadata": {
    "tags": []
   },
   "outputs": [
    {
     "name": "stdout",
     "output_type": "stream",
     "text": [
      "Confusion Matrix:\n",
      "[[28  5]\n",
      " [ 3 68]]\n",
      "\n",
      "Classification Report:\n",
      "              precision    recall  f1-score   support\n",
      "\n",
      "    Negative       0.90      0.85      0.88        33\n",
      "    Positive       0.93      0.96      0.94        71\n",
      "\n",
      "    accuracy                           0.92       104\n",
      "   macro avg       0.92      0.90      0.91       104\n",
      "weighted avg       0.92      0.92      0.92       104\n",
      "\n"
     ]
    },
    {
     "data": {
      "image/png": "[encoded data removed]",
      "text/plain": [
       "<Figure size 800x600 with 2 Axes>"
      ]
     },
     "metadata": {},
     "output_type": "display_data"
    }
   ],
   "source": [
    "from sklearn.linear_model import LogisticRegression\n",
    "\n",
    "X = df[['Polyuria', 'Polydipsia', 'sudden weight loss', 'weakness', 'Polyphagia',\n",
    "                   'Genital thrush', 'visual blurring', 'Itching', 'Irritability',\n",
    "                   'delayed healing', 'partial paresis', 'muscle stiffness', 'Alopecia', 'Obesity','Age', 'Gender']]\n",
    "\n",
    "y = df['class']\n",
    "\n",
    "# Perform one-hot encoding for categorical variables\n",
    "X_encoded = pd.get_dummies(X)\n",
    "\n",
    "\n",
    "# Split the data into training and testing sets\n",
    "X_train, X_test, y_train, y_test = train_test_split(X_encoded, y, test_size=0.2, random_state=42)\n",
    "\n",
    "\n",
    "# Train the Random Forest model\n",
    "lr_model = LogisticRegression()\n",
    "lr_model.fit(X_train, y_train)\n",
    "\n",
    "\n",
    "y_pred = lr_model.predict(X_test)\n",
    "                          \n",
    "\n",
    "# Evaluate the model with a confusion matrix and classification report\n",
    "\n",
    "lr_conf_matrix = confusion_matrix(y_test, y_pred)\n",
    "classification_rep = classification_report(y_test, y_pred)\n",
    "\n",
    "\n",
    "print(\"Confusion Matrix:\")\n",
    "print(lr_conf_matrix)\n",
    "print(\"\\nClassification Report:\")\n",
    "print(classification_rep)\n",
    "\n",
    "# Plot the confusion matrix\n",
    "plt.figure(figsize=(8, 6))\n",
    "sns.heatmap(lr_conf_matrix, annot=True, fmt=\"d\", cmap=\"Blues\", xticklabels=['Negative', 'Positive'], yticklabels=['Negative', 'Positive'])\n",
    "plt.xlabel('Predicted')\n",
    "plt.ylabel('Actual')\n",
    "plt.title('Logistic Regression Confusion Matrix')\n",
    "plt.savefig('lrrmodel1.png')\n",
    "plt.show()"
   ]
  },
  {
   "cell_type": "code",
   "execution_count": 94,
   "id": "d0ee2829-6c5f-4c0d-a771-aaf8daa6ffca",
   "metadata": {
    "tags": []
   },
   "outputs": [
    {
     "data": {
      "text/plain": [
       "array([-0.04349455, -1.47594924,  1.47679025, -1.55823544,  1.55907645,\n",
       "       -0.45320327,  0.45404428, -0.30173312,  0.30257413, -0.24740729,\n",
       "        0.2482483 , -0.7974479 ,  0.79828891, -0.47137655,  0.47221756,\n",
       "        0.76679147, -0.76595046, -0.85710385,  0.85794486,  0.32349166,\n",
       "       -0.32265065, -0.55256385,  0.55340486,  0.10579491, -0.1049539 ,\n",
       "        0.04111996, -0.04027895,  0.12638594, -0.12554494,  1.39569452,\n",
       "       -1.39485351])"
      ]
     },
     "execution_count": 94,
     "metadata": {},
     "output_type": "execute_result"
    }
   ],
   "source": [
    "# Get feature importance (coefficients) from the trained model\n",
    "lr_feature_importances = lr_model.coef_[0]\n",
    "lr_feature_importances"
   ]
  },
  {
   "cell_type": "code",
   "execution_count": 95,
   "id": "72f00262-77a3-4b73-9c71-b0d52c3e38c2",
   "metadata": {
    "tags": []
   },
   "outputs": [
    {
     "name": "stdout",
     "output_type": "stream",
     "text": [
      "Linear Regression Feature Importances:\n"
     ]
    },
    {
     "data": {
      "text/html": [
       "<div>\n",
       "<style scoped>\n",
       "    .dataframe tbody tr th:only-of-type {\n",
       "        vertical-align: middle;\n",
       "    }\n",
       "\n",
       "    .dataframe tbody tr th {\n",
       "        vertical-align: top;\n",
       "    }\n",
       "\n",
       "    .dataframe thead th {\n",
       "        text-align: right;\n",
       "    }\n",
       "</style>\n",
       "<table border=\"1\" class=\"dataframe\">\n",
       "  <thead>\n",
       "    <tr style=\"text-align: right;\">\n",
       "      <th></th>\n",
       "      <th>Feature</th>\n",
       "      <th>Importance</th>\n",
       "    </tr>\n",
       "  </thead>\n",
       "  <tbody>\n",
       "    <tr>\n",
       "      <th>4</th>\n",
       "      <td>Polydipsia_Yes</td>\n",
       "      <td>1.559076</td>\n",
       "    </tr>\n",
       "    <tr>\n",
       "      <th>2</th>\n",
       "      <td>Polyuria_Yes</td>\n",
       "      <td>1.476790</td>\n",
       "    </tr>\n",
       "    <tr>\n",
       "      <th>29</th>\n",
       "      <td>Gender_Female</td>\n",
       "      <td>1.395695</td>\n",
       "    </tr>\n",
       "    <tr>\n",
       "      <th>18</th>\n",
       "      <td>Irritability_Yes</td>\n",
       "      <td>0.857945</td>\n",
       "    </tr>\n",
       "    <tr>\n",
       "      <th>12</th>\n",
       "      <td>Genital thrush_Yes</td>\n",
       "      <td>0.798289</td>\n",
       "    </tr>\n",
       "    <tr>\n",
       "      <th>15</th>\n",
       "      <td>Itching_No</td>\n",
       "      <td>0.766791</td>\n",
       "    </tr>\n",
       "    <tr>\n",
       "      <th>22</th>\n",
       "      <td>partial paresis_Yes</td>\n",
       "      <td>0.553405</td>\n",
       "    </tr>\n",
       "    <tr>\n",
       "      <th>14</th>\n",
       "      <td>visual blurring_Yes</td>\n",
       "      <td>0.472218</td>\n",
       "    </tr>\n",
       "    <tr>\n",
       "      <th>6</th>\n",
       "      <td>sudden weight loss_Yes</td>\n",
       "      <td>0.454044</td>\n",
       "    </tr>\n",
       "    <tr>\n",
       "      <th>19</th>\n",
       "      <td>delayed healing_No</td>\n",
       "      <td>0.323492</td>\n",
       "    </tr>\n",
       "    <tr>\n",
       "      <th>8</th>\n",
       "      <td>weakness_Yes</td>\n",
       "      <td>0.302574</td>\n",
       "    </tr>\n",
       "    <tr>\n",
       "      <th>10</th>\n",
       "      <td>Polyphagia_Yes</td>\n",
       "      <td>0.248248</td>\n",
       "    </tr>\n",
       "    <tr>\n",
       "      <th>27</th>\n",
       "      <td>Obesity_No</td>\n",
       "      <td>0.126386</td>\n",
       "    </tr>\n",
       "    <tr>\n",
       "      <th>23</th>\n",
       "      <td>muscle stiffness_No</td>\n",
       "      <td>0.105795</td>\n",
       "    </tr>\n",
       "    <tr>\n",
       "      <th>25</th>\n",
       "      <td>Alopecia_No</td>\n",
       "      <td>0.041120</td>\n",
       "    </tr>\n",
       "    <tr>\n",
       "      <th>26</th>\n",
       "      <td>Alopecia_Yes</td>\n",
       "      <td>-0.040279</td>\n",
       "    </tr>\n",
       "    <tr>\n",
       "      <th>0</th>\n",
       "      <td>Age</td>\n",
       "      <td>-0.043495</td>\n",
       "    </tr>\n",
       "    <tr>\n",
       "      <th>24</th>\n",
       "      <td>muscle stiffness_Yes</td>\n",
       "      <td>-0.104954</td>\n",
       "    </tr>\n",
       "    <tr>\n",
       "      <th>28</th>\n",
       "      <td>Obesity_Yes</td>\n",
       "      <td>-0.125545</td>\n",
       "    </tr>\n",
       "    <tr>\n",
       "      <th>9</th>\n",
       "      <td>Polyphagia_No</td>\n",
       "      <td>-0.247407</td>\n",
       "    </tr>\n",
       "    <tr>\n",
       "      <th>7</th>\n",
       "      <td>weakness_No</td>\n",
       "      <td>-0.301733</td>\n",
       "    </tr>\n",
       "    <tr>\n",
       "      <th>20</th>\n",
       "      <td>delayed healing_Yes</td>\n",
       "      <td>-0.322651</td>\n",
       "    </tr>\n",
       "    <tr>\n",
       "      <th>5</th>\n",
       "      <td>sudden weight loss_No</td>\n",
       "      <td>-0.453203</td>\n",
       "    </tr>\n",
       "    <tr>\n",
       "      <th>13</th>\n",
       "      <td>visual blurring_No</td>\n",
       "      <td>-0.471377</td>\n",
       "    </tr>\n",
       "    <tr>\n",
       "      <th>21</th>\n",
       "      <td>partial paresis_No</td>\n",
       "      <td>-0.552564</td>\n",
       "    </tr>\n",
       "    <tr>\n",
       "      <th>16</th>\n",
       "      <td>Itching_Yes</td>\n",
       "      <td>-0.765950</td>\n",
       "    </tr>\n",
       "    <tr>\n",
       "      <th>11</th>\n",
       "      <td>Genital thrush_No</td>\n",
       "      <td>-0.797448</td>\n",
       "    </tr>\n",
       "    <tr>\n",
       "      <th>17</th>\n",
       "      <td>Irritability_No</td>\n",
       "      <td>-0.857104</td>\n",
       "    </tr>\n",
       "    <tr>\n",
       "      <th>30</th>\n",
       "      <td>Gender_Male</td>\n",
       "      <td>-1.394854</td>\n",
       "    </tr>\n",
       "    <tr>\n",
       "      <th>1</th>\n",
       "      <td>Polyuria_No</td>\n",
       "      <td>-1.475949</td>\n",
       "    </tr>\n",
       "    <tr>\n",
       "      <th>3</th>\n",
       "      <td>Polydipsia_No</td>\n",
       "      <td>-1.558235</td>\n",
       "    </tr>\n",
       "  </tbody>\n",
       "</table>\n",
       "</div>"
      ],
      "text/plain": [
       "                   Feature  Importance\n",
       "4           Polydipsia_Yes    1.559076\n",
       "2             Polyuria_Yes    1.476790\n",
       "29           Gender_Female    1.395695\n",
       "18        Irritability_Yes    0.857945\n",
       "12      Genital thrush_Yes    0.798289\n",
       "15              Itching_No    0.766791\n",
       "22     partial paresis_Yes    0.553405\n",
       "14     visual blurring_Yes    0.472218\n",
       "6   sudden weight loss_Yes    0.454044\n",
       "19      delayed healing_No    0.323492\n",
       "8             weakness_Yes    0.302574\n",
       "10          Polyphagia_Yes    0.248248\n",
       "27              Obesity_No    0.126386\n",
       "23     muscle stiffness_No    0.105795\n",
       "25             Alopecia_No    0.041120\n",
       "26            Alopecia_Yes   -0.040279\n",
       "0                      Age   -0.043495\n",
       "24    muscle stiffness_Yes   -0.104954\n",
       "28             Obesity_Yes   -0.125545\n",
       "9            Polyphagia_No   -0.247407\n",
       "7              weakness_No   -0.301733\n",
       "20     delayed healing_Yes   -0.322651\n",
       "5    sudden weight loss_No   -0.453203\n",
       "13      visual blurring_No   -0.471377\n",
       "21      partial paresis_No   -0.552564\n",
       "16             Itching_Yes   -0.765950\n",
       "11       Genital thrush_No   -0.797448\n",
       "17         Irritability_No   -0.857104\n",
       "30             Gender_Male   -1.394854\n",
       "1              Polyuria_No   -1.475949\n",
       "3            Polydipsia_No   -1.558235"
      ]
     },
     "execution_count": 95,
     "metadata": {},
     "output_type": "execute_result"
    }
   ],
   "source": [
    "# Create a DataFrame to display feature importances\n",
    "lr_feature_importance= pd.DataFrame({'Feature': X_encoded.columns, 'Importance': lr_feature_importances})\n",
    "lr_feature_importance = lr_feature_importance.sort_values(by='Importance', ascending=False)\n",
    "\n",
    "# Display the feature importances\n",
    "print(\"Linear Regression Feature Importances:\")\n",
    "lr_feature_importance"
   ]
  },
  {
   "cell_type": "code",
   "execution_count": 96,
   "id": "1b09bdf8-e885-4a60-abf6-629bc9bf9757",
   "metadata": {},
   "outputs": [
    {
     "name": "stdout",
     "output_type": "stream",
     "text": [
      "Selected Features: ['Polydipsia_Yes', 'Polyuria_Yes', 'Gender_Female', 'Irritability_Yes', 'Genital thrush_Yes', 'Itching_No', 'partial paresis_Yes', 'visual blurring_Yes', 'sudden weight loss_Yes', 'delayed healing_No', 'weakness_Yes', 'Polyphagia_Yes', 'Obesity_No', 'muscle stiffness_No']\n"
     ]
    }
   ],
   "source": [
    "# select features above a threshold of 0.05\n",
    "selected_features = lr_feature_importance[lr_feature_importance['Importance'] > 0.05]['Feature'].tolist()\n",
    "print(\"Selected Features:\", selected_features)\n"
   ]
  },
  {
   "cell_type": "code",
   "execution_count": 97,
   "id": "738d3e20-abd6-431d-97d3-b316fb6266e6",
   "metadata": {
    "tags": []
   },
   "outputs": [
    {
     "name": "stdout",
     "output_type": "stream",
     "text": [
      "Accuracy: 0.9326923076923077\n",
      "\n",
      "Classification Report:\n",
      "              precision    recall  f1-score   support\n",
      "\n",
      "    Negative       0.91      0.88      0.89        33\n",
      "    Positive       0.94      0.96      0.95        71\n",
      "\n",
      "    accuracy                           0.93       104\n",
      "   macro avg       0.93      0.92      0.92       104\n",
      "weighted avg       0.93      0.93      0.93       104\n",
      "\n",
      "\n",
      "Confusion Matrix:\n",
      "[[29  4]\n",
      " [ 3 68]]\n"
     ]
    },
    {
     "data": {
      "image/png": "[encoded data removed]",
      "text/plain": [
       "<Figure size 800x600 with 2 Axes>"
      ]
     },
     "metadata": {},
     "output_type": "display_data"
    }
   ],
   "source": [
    "X = X_encoded[['Polydipsia_Yes', 'Polyuria_Yes', 'Gender_Female', 'Irritability_Yes', 'Genital thrush_Yes', 'Itching_No', 'partial paresis_Yes', 'sudden weight loss_Yes', 'visual blurring_Yes', 'delayed healing_No', 'weakness_Yes', 'Polyphagia_Yes', 'Obesity_No', 'muscle stiffness_No']\n",
    "]\n",
    "y = df['class']\n",
    "\n",
    "\n",
    "X_train, X_test, y_train, y_test = train_test_split(X, y, test_size=0.2, random_state=42)\n",
    "\n",
    "# Train a new Logistic Regression model using the selected features\n",
    "newlr_model = LogisticRegression()\n",
    "newlr_model.fit(X_train, y_train)\n",
    "\n",
    "# Predictions on the test set using the new model\n",
    "y_pred = newlr_model.predict(X_test)\n",
    "\n",
    "# Evaluate the new model\n",
    "accuracy = accuracy_score(y_test, y_pred)\n",
    "classification_rep = classification_report(y_test, y_pred)\n",
    "selected_lrfeatures_conf_matrix = confusion_matrix(y_test, y_pred)\n",
    "\n",
    "# Print evaluation metrics\n",
    "print(\"Accuracy:\", accuracy)\n",
    "print(\"\\nClassification Report:\")\n",
    "print(classification_rep)\n",
    "print(\"\\nConfusion Matrix:\")\n",
    "print(selected_lrfeatures_conf_matrix)\n",
    "\n",
    "\n",
    "\n",
    "# Plot the confusion matrix\n",
    "plt.figure(figsize=(8, 6))\n",
    "sns.heatmap(selected_lrfeatures_conf_matrix, annot=True, fmt=\"d\", cmap=\"Blues\", xticklabels=['Negative', 'Positive'], yticklabels=['Negative', 'Positive'])\n",
    "plt.xlabel('Predicted')\n",
    "plt.ylabel('Actual')\n",
    "plt.title('Logistic Regression With The Selected Features Confusion Matrix')\n",
    "plt.savefig('lrmodel1.png')\n",
    "plt.show()\n"
   ]
  },
  {
   "cell_type": "code",
   "execution_count": 98,
   "id": "749a010c-1ac8-4e82-b43a-74e2ee26d0fd",
   "metadata": {
    "tags": []
   },
   "outputs": [
    {
     "name": "stdout",
     "output_type": "stream",
     "text": [
      "Selected Feature Names:\n",
      "Index(['Polyuria_No', 'Polyuria_Yes', 'Polydipsia_No', 'Polydipsia_Yes',\n",
      "       'sudden weight loss_No', 'sudden weight loss_Yes', 'weakness_No',\n",
      "       'weakness_Yes', 'Polyphagia_No', 'Polyphagia_Yes', 'Genital thrush_No',\n",
      "       'Genital thrush_Yes', 'visual blurring_No', 'visual blurring_Yes',\n",
      "       'Itching_No', 'Itching_Yes', 'Irritability_No', 'Irritability_Yes',\n",
      "       'delayed healing_No', 'delayed healing_Yes', 'partial paresis_No',\n",
      "       'partial paresis_Yes', 'muscle stiffness_No', 'muscle stiffness_Yes',\n",
      "       'Obesity_No', 'Obesity_Yes', 'Gender_Female', 'Gender_Male'],\n",
      "      dtype='object')\n",
      "Accuracy with selected features: 0.9230769230769231\n"
     ]
    }
   ],
   "source": [
    "from sklearn.feature_selection import SelectFromModel\n",
    "from sklearn.metrics import accuracy_score\n",
    "\n",
    "\n",
    "X = df[['Polyuria', 'Polydipsia', 'sudden weight loss', 'weakness', 'Polyphagia',\n",
    "                   'Genital thrush', 'visual blurring', 'Itching', 'Irritability',\n",
    "                   'delayed healing', 'partial paresis', 'muscle stiffness', 'Alopecia', 'Obesity','Age', 'Gender']]\n",
    "\n",
    "y = df['class']\n",
    "\n",
    "# Perform one-hot encoding for categorical variables\n",
    "X_encoded = pd.get_dummies(X)\n",
    "\n",
    "# Split the data into training and testing sets\n",
    "X_train, X_test, y_train, y_test = train_test_split(X_encoded, y, test_size=0.2, random_state=42)\n",
    "\n",
    "# Train the LR model\n",
    "lr_model = LogisticRegression()\n",
    "lr_model.fit(X_train, y_train)\n",
    "\n",
    "# Use feature importances for feature selection\n",
    "sfm = SelectFromModel(lr_model, threshold=0.05)  \n",
    "sfm.fit(X_train, y_train)\n",
    "\n",
    "# Get the names of the selected features\n",
    "selected_feature_names = X_train.columns[sfm.get_support()]\n",
    "\n",
    "# Transform the features\n",
    "X_train_selected = sfm.transform(X_train)\n",
    "X_test_selected = sfm.transform(X_test)\n",
    "\n",
    "# Train a new model using the selected features\n",
    "new_model = LogisticRegression(random_state=42)\n",
    "new_model.fit(X_train_selected, y_train)\n",
    "\n",
    "# Predictions on the test set using the new model\n",
    "y_pred_selected = new_model.predict(X_test_selected)\n",
    "\n",
    "# Evaluate the new model\n",
    "accuracy_selected = accuracy_score(y_test, y_pred_selected)\n",
    "\n",
    "print(\"Selected Feature Names:\")\n",
    "print(selected_feature_names)\n",
    "\n",
    "# Print accuracy\n",
    "print(\"Accuracy with selected features:\", accuracy_selected)\n"
   ]
  },
  {
   "cell_type": "code",
   "execution_count": 99,
   "id": "d2cf04cb-978f-40f9-a5b3-72915c14a42c",
   "metadata": {
    "tags": []
   },
   "outputs": [
    {
     "name": "stdout",
     "output_type": "stream",
     "text": [
      "Confusion Matrix:\n",
      "[[28  5]\n",
      " [ 3 68]]\n",
      "\n",
      "Classification Report:\n",
      "              precision    recall  f1-score   support\n",
      "\n",
      "    Negative       0.90      0.85      0.88        33\n",
      "    Positive       0.93      0.96      0.94        71\n",
      "\n",
      "    accuracy                           0.92       104\n",
      "   macro avg       0.92      0.90      0.91       104\n",
      "weighted avg       0.92      0.92      0.92       104\n",
      "\n"
     ]
    },
    {
     "data": {
      "image/png": "[encoded data removed]",
      "text/plain": [
       "<Figure size 800x600 with 2 Axes>"
      ]
     },
     "metadata": {},
     "output_type": "display_data"
    }
   ],
   "source": [
    "sm_conf_matrix = confusion_matrix(y_test, y_pred_selected)\n",
    "classification_rep = classification_report(y_test, y_pred_selected)\n",
    "\n",
    "# Print the confusion matrix and classification report\n",
    "print(\"Confusion Matrix:\")\n",
    "print(sm_conf_matrix)\n",
    "print(\"\\nClassification Report:\")\n",
    "print(classification_rep)\n",
    "\n",
    "# Plot the confusion matrix\n",
    "plt.figure(figsize=(8, 6))\n",
    "sns.heatmap(sm_conf_matrix, annot=True, fmt=\"d\", cmap=\"Blues\", xticklabels=['Negative', 'Positive'], yticklabels=['Negative', 'Positive'])\n",
    "plt.xlabel('Predicted')\n",
    "plt.ylabel('Actual')\n",
    "plt.title('Linear Confusion Matrix with SelectFromModel')\n",
    "plt.savefig(\"lrsfmodel.png\")\n",
    "plt.show()"
   ]
  },
  {
   "cell_type": "markdown",
   "id": "a612a9b5-504a-44e0-b226-98702d8fc034",
   "metadata": {},
   "source": [
    "# Summary:\n",
    "\n",
    "- RandomForestClassifier was trained on the data set without selection of any important features.\n",
    "- Feature importance and the top features were selected based on a threshold of >0.05, and a RandomForestClassifier was trained on the data\n",
    "- SelectFromModel was used with RandomForestClassifier to select the best features and train the data with the features selected by SelectFromModel\n",
    "- LogisticRegression was trained on the data set without selection of features.\n",
    "- Feature importance was implemented and best features were selected via a threshold of >0.05 and the logisticRegression was trained on the data based on the selected features\n",
    "- SelectFromModel was used with LogisticRegression and the best features were selected and used to train the model on the data set.\n",
    "\n",
    "- Classification report and confusion matrix were done for each of the model tests\n",
    "\n",
    "- Please your suggestions/opinions regarding this is appreciated "
   ]
  },
  {
   "cell_type": "code",
   "execution_count": null,
   "id": "9c575920-969f-4c08-97eb-afbc408ffdac",
   "metadata": {},
   "outputs": [],
   "source": []
  }
 ],
 "metadata": {
  "kernelspec": {
   "display_name": "Python 3 (ipykernel)",
   "language": "python",
   "name": "python3"
  },
  "language_info": {
   "codemirror_mode": {
    "name": "ipython",
    "version": 3
   },
   "file_extension": ".py",
   "mimetype": "text/x-python",
   "name": "python",
   "nbconvert_exporter": "python",
   "pygments_lexer": "ipython3",
   "version": "3.11.7"
  }
 },
 "nbformat": 4,
 "nbformat_minor": 5
}
